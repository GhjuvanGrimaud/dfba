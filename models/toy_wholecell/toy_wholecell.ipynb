{
 "cells": [
  {
   "cell_type": "markdown",
   "metadata": {},
   "source": [
    "# toy_wholecell"
   ]
  },
  {
   "cell_type": "code",
   "execution_count": 1,
   "metadata": {
    "scrolled": true
   },
   "outputs": [
    {
     "name": "stdout",
     "output_type": "stream",
     "text": [
      "sbmlutils: 0.1.5a5\n",
      "cobra: 0.6.1\n",
      "roadrunner: 1.4.18; Compiler: gcc 4.8.2, C++ version: 199711; JIT Compiler: LLVM-3.3; Date: May 17 2017, 17:41:04; LibSBML Version: 5.14.0\n",
      "/home/mkoenig/git/dfba/models/toy_wholecell\n"
     ]
    }
   ],
   "source": [
    "from __future__ import absolute_import, print_function, division\n",
    "import os\n",
    "from matplotlib import pyplot as plt\n",
    "import pandas as pd\n",
    "import numpy as np\n",
    "import cobra\n",
    "import roadrunner\n",
    "\n",
    "from IPython.display import display, HTML\n",
    "\n",
    "import sbmlutils\n",
    "from sbmlutils import dfba\n",
    "from sbmlutils.dfba.simulator import simulate_dfba\n",
    "from sbmlutils.dfba import utils\n",
    "\n",
    "print('sbmlutils:', sbmlutils.__version__)\n",
    "print('cobra:', cobra.__version__)\n",
    "print('roadrunner:', roadrunner.__version__)\n",
    "\n",
    "print(os.getcwd())"
   ]
  },
  {
   "cell_type": "markdown",
   "metadata": {},
   "source": [
    "## Simulation settings"
   ]
  },
  {
   "cell_type": "code",
   "execution_count": 2,
   "metadata": {
    "collapsed": true,
    "scrolled": true
   },
   "outputs": [],
   "source": [
    "model_id = \"toy_wholecell\"\n",
    "tend = 50.0\n",
    "dt = 1.0"
   ]
  },
  {
   "cell_type": "code",
   "execution_count": 3,
   "metadata": {
    "collapsed": true
   },
   "outputs": [],
   "source": [
    "def plot_results(df, mid):\n",
    "    fig, (ax1, ax2) = plt.subplots(nrows=1, ncols=2, figsize=(14, 7))\n",
    "    kwargs = {}\n",
    "    for ax in (ax1, ax2):\n",
    "        ax.plot(df.time, df['[A]'], color='darkred', label=\"[A]\", **kwargs)\n",
    "        ax.plot(df.time, df['[C]'], color='darkblue', label=\"[C]\", **kwargs)\n",
    "        ax.plot(df.time, df['[D]'], color='darkgreen', label=\"[D]\", **kwargs)\n",
    "        ax.plot(df.time, df['[A]']+df['[C]']+df['[D]'], color='black', label=\"[A]+[C]+[D]\", **kwargs)\n",
    "\n",
    "    ax2.set_yscale('log')\n",
    "\n",
    "    for ax in (ax1, ax2):\n",
    "        ax.set_ylabel('Concentration [?]')\n",
    "\n",
    "    for ax in (ax1, ax2):\n",
    "        ax.set_title(mid)\n",
    "        ax.set_xlabel('time [h]')\n",
    "        ax.legend()\n",
    "\n",
    "    plt.show()\n",
    "    return fig"
   ]
  },
  {
   "cell_type": "markdown",
   "metadata": {},
   "source": [
    "## mk model"
   ]
  },
  {
   "cell_type": "code",
   "execution_count": 5,
   "metadata": {
    "scrolled": false
   },
   "outputs": [
    {
     "name": "stdout",
     "output_type": "stream",
     "text": [
      "./mk/v10/toy_top.xml\n",
      "toy_wholecell_mk_v10-sbmlutils\n",
      "\n",
      "Simulation time     : 0.123 [s]\n",
      "Total time          : 0.198 [s]\n",
      "Overhead time       : 0.075 [s] (37.9 %)\n",
      "\n"
     ]
    },
    {
     "data": {
      "text/html": [
       "<div>\n",
       "<style>\n",
       "    .dataframe thead tr:only-child th {\n",
       "        text-align: right;\n",
       "    }\n",
       "\n",
       "    .dataframe thead th {\n",
       "        text-align: left;\n",
       "    }\n",
       "\n",
       "    .dataframe tbody tr th {\n",
       "        vertical-align: top;\n",
       "    }\n",
       "</style>\n",
       "<table border=\"1\" class=\"dataframe\">\n",
       "  <thead>\n",
       "    <tr style=\"text-align: right;\">\n",
       "      <th></th>\n",
       "      <th>time</th>\n",
       "      <th>[A]</th>\n",
       "      <th>[C]</th>\n",
       "      <th>[D]</th>\n",
       "      <th>[dummy_S]</th>\n",
       "      <th>[fba__A]</th>\n",
       "      <th>[fba__B1]</th>\n",
       "      <th>[fba__B2]</th>\n",
       "      <th>[fba__C]</th>\n",
       "      <th>EX_A</th>\n",
       "      <th>...</th>\n",
       "      <th>fba__ub_default</th>\n",
       "      <th>fba__zero</th>\n",
       "      <th>k_R4</th>\n",
       "      <th>lb_EX_A</th>\n",
       "      <th>lb_EX_C</th>\n",
       "      <th>pEX_A</th>\n",
       "      <th>pEX_C</th>\n",
       "      <th>ub_EX_A</th>\n",
       "      <th>ub_EX_C</th>\n",
       "      <th>ub_R1</th>\n",
       "    </tr>\n",
       "  </thead>\n",
       "  <tbody>\n",
       "    <tr>\n",
       "      <th>0.0</th>\n",
       "      <td>0.0</td>\n",
       "      <td>10.000000</td>\n",
       "      <td>0.000000</td>\n",
       "      <td>0.000000</td>\n",
       "      <td>0.0</td>\n",
       "      <td>0.0</td>\n",
       "      <td>0.0</td>\n",
       "      <td>0.0</td>\n",
       "      <td>0.0</td>\n",
       "      <td>-1.000000</td>\n",
       "      <td>...</td>\n",
       "      <td>1000.0</td>\n",
       "      <td>0.0</td>\n",
       "      <td>0.1</td>\n",
       "      <td>-100.000000</td>\n",
       "      <td>0.000000</td>\n",
       "      <td>-1.000000</td>\n",
       "      <td>1.000000</td>\n",
       "      <td>1000.0</td>\n",
       "      <td>1000.0</td>\n",
       "      <td>1.000000</td>\n",
       "    </tr>\n",
       "    <tr>\n",
       "      <th>1.0</th>\n",
       "      <td>1.0</td>\n",
       "      <td>9.000000</td>\n",
       "      <td>0.951626</td>\n",
       "      <td>0.048374</td>\n",
       "      <td>0.0</td>\n",
       "      <td>0.0</td>\n",
       "      <td>0.0</td>\n",
       "      <td>0.0</td>\n",
       "      <td>0.0</td>\n",
       "      <td>-0.818731</td>\n",
       "      <td>...</td>\n",
       "      <td>1000.0</td>\n",
       "      <td>0.0</td>\n",
       "      <td>0.1</td>\n",
       "      <td>-90.000000</td>\n",
       "      <td>-9.516258</td>\n",
       "      <td>-0.818731</td>\n",
       "      <td>0.818731</td>\n",
       "      <td>1000.0</td>\n",
       "      <td>1000.0</td>\n",
       "      <td>0.818731</td>\n",
       "    </tr>\n",
       "    <tr>\n",
       "      <th>2.0</th>\n",
       "      <td>2.0</td>\n",
       "      <td>8.181269</td>\n",
       "      <td>1.640192</td>\n",
       "      <td>0.178539</td>\n",
       "      <td>0.0</td>\n",
       "      <td>0.0</td>\n",
       "      <td>0.0</td>\n",
       "      <td>0.0</td>\n",
       "      <td>0.0</td>\n",
       "      <td>-0.670320</td>\n",
       "      <td>...</td>\n",
       "      <td>1000.0</td>\n",
       "      <td>0.0</td>\n",
       "      <td>0.1</td>\n",
       "      <td>-81.812693</td>\n",
       "      <td>-16.401919</td>\n",
       "      <td>-0.670320</td>\n",
       "      <td>0.670320</td>\n",
       "      <td>1000.0</td>\n",
       "      <td>1000.0</td>\n",
       "      <td>0.670320</td>\n",
       "    </tr>\n",
       "    <tr>\n",
       "      <th>3.0</th>\n",
       "      <td>3.0</td>\n",
       "      <td>7.510949</td>\n",
       "      <td>2.122001</td>\n",
       "      <td>0.367049</td>\n",
       "      <td>0.0</td>\n",
       "      <td>0.0</td>\n",
       "      <td>0.0</td>\n",
       "      <td>0.0</td>\n",
       "      <td>0.0</td>\n",
       "      <td>-0.548811</td>\n",
       "      <td>...</td>\n",
       "      <td>1000.0</td>\n",
       "      <td>0.0</td>\n",
       "      <td>0.1</td>\n",
       "      <td>-75.109491</td>\n",
       "      <td>-21.220014</td>\n",
       "      <td>-0.548811</td>\n",
       "      <td>0.548811</td>\n",
       "      <td>1000.0</td>\n",
       "      <td>1000.0</td>\n",
       "      <td>0.548811</td>\n",
       "    </tr>\n",
       "    <tr>\n",
       "      <th>4.0</th>\n",
       "      <td>4.0</td>\n",
       "      <td>6.962138</td>\n",
       "      <td>2.442333</td>\n",
       "      <td>0.595529</td>\n",
       "      <td>0.0</td>\n",
       "      <td>0.0</td>\n",
       "      <td>0.0</td>\n",
       "      <td>0.0</td>\n",
       "      <td>0.0</td>\n",
       "      <td>-0.449323</td>\n",
       "      <td>...</td>\n",
       "      <td>1000.0</td>\n",
       "      <td>0.0</td>\n",
       "      <td>0.1</td>\n",
       "      <td>-69.621378</td>\n",
       "      <td>-24.423330</td>\n",
       "      <td>-0.449323</td>\n",
       "      <td>0.449323</td>\n",
       "      <td>1000.0</td>\n",
       "      <td>1000.0</td>\n",
       "      <td>0.449323</td>\n",
       "    </tr>\n",
       "  </tbody>\n",
       "</table>\n",
       "<p>5 rows × 30 columns</p>\n",
       "</div>"
      ],
      "text/plain": [
       "     time        [A]       [C]       [D]  [dummy_S]  [fba__A]  [fba__B1]  \\\n",
       "0.0   0.0  10.000000  0.000000  0.000000        0.0       0.0        0.0   \n",
       "1.0   1.0   9.000000  0.951626  0.048374        0.0       0.0        0.0   \n",
       "2.0   2.0   8.181269  1.640192  0.178539        0.0       0.0        0.0   \n",
       "3.0   3.0   7.510949  2.122001  0.367049        0.0       0.0        0.0   \n",
       "4.0   4.0   6.962138  2.442333  0.595529        0.0       0.0        0.0   \n",
       "\n",
       "     [fba__B2]  [fba__C]      EX_A    ...     fba__ub_default  fba__zero  \\\n",
       "0.0        0.0       0.0 -1.000000    ...              1000.0        0.0   \n",
       "1.0        0.0       0.0 -0.818731    ...              1000.0        0.0   \n",
       "2.0        0.0       0.0 -0.670320    ...              1000.0        0.0   \n",
       "3.0        0.0       0.0 -0.548811    ...              1000.0        0.0   \n",
       "4.0        0.0       0.0 -0.449323    ...              1000.0        0.0   \n",
       "\n",
       "     k_R4     lb_EX_A    lb_EX_C     pEX_A     pEX_C  ub_EX_A  ub_EX_C  \\\n",
       "0.0   0.1 -100.000000   0.000000 -1.000000  1.000000   1000.0   1000.0   \n",
       "1.0   0.1  -90.000000  -9.516258 -0.818731  0.818731   1000.0   1000.0   \n",
       "2.0   0.1  -81.812693 -16.401919 -0.670320  0.670320   1000.0   1000.0   \n",
       "3.0   0.1  -75.109491 -21.220014 -0.548811  0.548811   1000.0   1000.0   \n",
       "4.0   0.1  -69.621378 -24.423330 -0.449323  0.449323   1000.0   1000.0   \n",
       "\n",
       "        ub_R1  \n",
       "0.0  1.000000  \n",
       "1.0  0.818731  \n",
       "2.0  0.670320  \n",
       "3.0  0.548811  \n",
       "4.0  0.449323  \n",
       "\n",
       "[5 rows x 30 columns]"
      ]
     },
     "metadata": {},
     "output_type": "display_data"
    },
    {
     "data": {
      "image/png": "[encoded data removed]",
      "text/plain": [
       "<matplotlib.figure.Figure at 0x7f70458e4f28>"
      ]
     },
     "metadata": {},
     "output_type": "display_data"
    }
   ],
   "source": [
    "version_mk = 'v10'\n",
    "sbml_mk = './mk/{}/toy_top.xml'.format(version_mk)\n",
    "mid_mk = '{}_mk_{}-sbmlutils'.format(model_id, version_mk)\n",
    "print(sbml_mk)\n",
    "print(mid_mk)\n",
    "\n",
    "# simulation \n",
    "df_mk, dfba_model_mk, dfba_simulator_mk = simulate_dfba(sbml_mk, tend=tend, dt=dt)\n",
    "\n",
    "# results\n",
    "display(df_mk.head())\n",
    "df_mk.to_csv('./{}.csv'.format(mid_mk))\n",
    "\n",
    "fig = plot_results(df_mk, mid_mk)\n",
    "fig.savefig('./{}.png'.format(mid_mk), bbox_inches='tight')"
   ]
  },
  {
   "cell_type": "code",
   "execution_count": null,
   "metadata": {
    "collapsed": true,
    "scrolled": true
   },
   "outputs": [],
   "source": []
  }
 ],
 "metadata": {
  "kernelspec": {
   "display_name": "dfba",
   "language": "python",
   "name": "dfba"
  },
  "language_info": {
   "codemirror_mode": {
    "name": "ipython",
    "version": 3
   },
   "file_extension": ".py",
   "mimetype": "text/x-python",
   "name": "python",
   "nbconvert_exporter": "python",
   "pygments_lexer": "ipython3",
   "version": "3.5.2"
  }
 },
 "nbformat": 4,
 "nbformat_minor": 2
}
