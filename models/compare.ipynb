{
 "cells": [
  {
   "cell_type": "markdown",
   "metadata": {},
   "source": [
    "# Reproducibility between tools\n",
    "The following scripts checks that solutions are reproducibile between tools. Reproducibility of the model simulations was tested by comparing the numerical SOA results between `sbmlutils` and `iBioSim` for models with unique solutions. Results were assumed as numerical identical if the absolute difference for every time point $t_k$ for all dynamical FBA species $c_k$ in the model  was smaller than the tolerance $\\epsilon = 1\\mathrm{E}{-3}$, i.e.,\n",
    "$$\n",
    "abs(c_{i}(t_k)_{sbmlutils}-c_{i}(t_k)_{ibiosim}) \\leq \\epsilon \\; \\forall c_{i}, t_{k}\n",
    "$$"
   ]
  },
  {
   "cell_type": "code",
   "execution_count": 31,
   "metadata": {},
   "outputs": [],
   "source": [
    "\"\"\"\n",
    "Helper class for comparing simulation results.\n",
    "\"\"\"\n",
    "import pandas as pd\n",
    "from matplotlib import pyplot as plt\n",
    "from pprint import pprint\n",
    "import warnings\n",
    "\n",
    "class DataSetsComparison(object):\n",
    "    \"\"\" Comparing two simulation results.\n",
    "    Currently only supports comparison between two datasets.\n",
    "    \"\"\"\n",
    "    eps = 1E-3  # tolerance for comparison \n",
    "    \n",
    "    def __init__(self, files, dfs, columns=None):\n",
    "        self.files = files\n",
    "        self.columns = columns\n",
    "        for df in dfs:\n",
    "            # check that identical number of timepoints\n",
    "            if len(df) != len(dfs[0]):\n",
    "                raise ValueError(\"DataFrames have different length: \\\n",
    "                                 {} != {}\".format(len(df), len(dfs[0])))\n",
    "        \n",
    "        if columns:\n",
    "            assert len(self.files) == len(self.columns)\n",
    "            for column in self.columns:\n",
    "                assert len(column) == len(self.columns[0])\n",
    "            \n",
    "        self.read_dfs(dfs)\n",
    "        self.diff = self.df_diff()\n",
    "        \n",
    "    def read_dfs(self, dfs):\n",
    "        \"\"\" Read the dataframes using the files and given column ids.\"\"\"\n",
    "        self.dfs = []\n",
    "        \n",
    "        for k, df in enumerate(dfs):\n",
    "            file = self.files[k]\n",
    "            if self.columns:\n",
    "                cols = self.columns[k]\n",
    "                try:\n",
    "                    df1 = df[cols]\n",
    "                except KeyError:              \n",
    "                    pprint(df.columns)\n",
    "                    raise\n",
    "                df1.columns = self.columns[0]  # unify columns\n",
    "                self.dfs.append(df1)\n",
    "            else:\n",
    "                # no columns specified, necessary to figure out the mapping\n",
    "                print(\"-\"*40)\n",
    "                print(file)\n",
    "                print(\"-\"*40)\n",
    "                pprint(df.columns)\n",
    "            \n",
    "        return self.dfs\n",
    "\n",
    "    def df_diff(self):\n",
    "        \"\"\" DataFrame of all differences between the files.\"\"\"\n",
    "        return self.dfs[0]-self.dfs[1]\n",
    "    \n",
    "    def is_equal(self):\n",
    "        \"\"\" Check if DataFrames are identical within numerical tolerance.\"\"\"\n",
    "        return abs(self.diff.abs().max().max()) <= DataSetsComparison.eps\n",
    "\n",
    "                                 \n",
    "    def info(self):\n",
    "        pprint(self.files)\n",
    "        pprint(self.columns)\n",
    "        \n",
    "    def print_diff(self):\n",
    "        print(\"\\n# Elements\")\n",
    "        print(self.diff.shape)\n",
    "        \n",
    "        print(\"\\n# Maximum column difference\")\n",
    "        print(self.diff.abs().max())\n",
    "        \n",
    "        print(\"\\n# Maximum element difference\")\n",
    "        print(self.diff.abs().max().max())\n",
    "        \n",
    "        print(\"\\n# Datasets are equal (diff <= eps={})\".format(self.eps))\n",
    "        print(self.is_equal())\n",
    "        if not (self.is_equal()):\n",
    "            warnings.warn(\"Datasets are not equal !\")\n",
    "        \n",
    "              \n",
    "    def plot_diff(self):\n",
    "        for cid in self.diff.columns:\n",
    "            plt.plot(self.diff[cid], label=cid)\n",
    "        plt.legend()\n",
    "        plt.show()\n",
    "        \n",
    "    def report(self):\n",
    "        print(\"*\" * 80)\n",
    "        self.info()\n",
    "        self.print_diff()\n",
    "        print(\"*\" * 80)\n",
    "        self.plot_diff()\n",
    "        self.diff"
   ]
  },
  {
   "cell_type": "markdown",
   "metadata": {},
   "source": [
    "## toy_wholecell"
   ]
  },
  {
   "cell_type": "code",
   "execution_count": 32,
   "metadata": {},
   "outputs": [
    {
     "name": "stdout",
     "output_type": "stream",
     "text": [
      "********************************************************************************\n",
      "['./toy_wholecell/toy_wholecell_mk_v14-sbmlutils_dt1.0_tend50.0.csv',\n",
      " './toy_wholecell/toy_wholecell_mk_v14-ibiosim_dt1.0_tend50.0.csv']\n",
      "[['time', '[A]', '[C]', '[D]'], ['time', 'A', 'C', 'D']]\n",
      "\n",
      "# Elements\n",
      "(51, 4)\n",
      "\n",
      "# Maximum column difference\n",
      "time    0.000000e+00\n",
      "[A]     1.280189e-07\n",
      "[C]     5.191503e-08\n",
      "[D]     1.242827e-07\n",
      "dtype: float64\n",
      "\n",
      "# Maximum element difference\n",
      "1.28018868395e-07\n",
      "\n",
      "# Datasets are equal (diff <= eps=0.001)\n",
      "True\n",
      "********************************************************************************\n"
     ]
    },
    {
     "data": {
      "image/png": "[encoded data removed]",
      "text/plain": [
       "<matplotlib.figure.Figure at 0x7f6fd6309e48>"
      ]
     },
     "metadata": {},
     "output_type": "display_data"
    }
   ],
   "source": [
    "wholecell_version = 14\n",
    "files = [\n",
    "        \"./toy_wholecell/toy_wholecell_mk_v14-sbmlutils_dt1.0_tend50.0.csv\",\n",
    "        \"./toy_wholecell/toy_wholecell_mk_v14-ibiosim_dt1.0_tend50.0.csv\"\n",
    "]\n",
    "wholecell_dsc = DataSetsComparison(\n",
    "    files=files, \n",
    "    dfs=[pd.read_csv(file) for file in files],\n",
    "    columns = [\n",
    "        [\"time\", \"[A]\", \"[C]\", \"[D]\"],\n",
    "        [\"time\", \"A\", \"C\", \"D\"],\n",
    "    ]\n",
    ")\n",
    "\n",
    "wholecell_dsc.report()"
   ]
  },
  {
   "cell_type": "markdown",
   "metadata": {},
   "source": [
    "## toy_atp"
   ]
  },
  {
   "cell_type": "code",
   "execution_count": 33,
   "metadata": {},
   "outputs": [
    {
     "ename": "ValueError",
     "evalue": "DataFrames have different length:                                  16 != 151",
     "output_type": "error",
     "traceback": [
      "\u001b[0;31m---------------------------------------------------------------------------\u001b[0m",
      "\u001b[0;31mValueError\u001b[0m                                Traceback (most recent call last)",
      "\u001b[0;32m<ipython-input-33-e7957bbc5a3f>\u001b[0m in \u001b[0;36m<module>\u001b[0;34m()\u001b[0m\n\u001b[1;32m     11\u001b[0m     columns = [\n\u001b[1;32m     12\u001b[0m         \u001b[0;34m[\u001b[0m\u001b[0;34m\"time\"\u001b[0m\u001b[0;34m,\u001b[0m \u001b[0;34m\"[adp]\"\u001b[0m\u001b[0;34m,\u001b[0m \u001b[0;34m\"[atp]\"\u001b[0m\u001b[0;34m,\u001b[0m \u001b[0;34m\"[pyr]\"\u001b[0m\u001b[0;34m,\u001b[0m \u001b[0;34m\"[glc]\"\u001b[0m\u001b[0;34m]\u001b[0m\u001b[0;34m,\u001b[0m\u001b[0;34m\u001b[0m\u001b[0m\n\u001b[0;32m---> 13\u001b[0;31m         \u001b[0;34m[\u001b[0m\u001b[0;34m\"time\"\u001b[0m\u001b[0;34m,\u001b[0m \u001b[0;34m\"adp\"\u001b[0m\u001b[0;34m,\u001b[0m \u001b[0;34m\"atp\"\u001b[0m\u001b[0;34m,\u001b[0m \u001b[0;34m\"pyr\"\u001b[0m\u001b[0;34m,\u001b[0m \u001b[0;34m\"glc\"\u001b[0m\u001b[0;34m]\u001b[0m\u001b[0;34m,\u001b[0m\u001b[0;34m\u001b[0m\u001b[0m\n\u001b[0m\u001b[1;32m     14\u001b[0m     ]\n\u001b[1;32m     15\u001b[0m )\n",
      "\u001b[0;32m<ipython-input-31-afecd26f9d49>\u001b[0m in \u001b[0;36m__init__\u001b[0;34m(self, files, dfs, columns)\u001b[0m\n\u001b[1;32m     19\u001b[0m             \u001b[0;31m# check that identical number of timepoints\u001b[0m\u001b[0;34m\u001b[0m\u001b[0;34m\u001b[0m\u001b[0m\n\u001b[1;32m     20\u001b[0m             \u001b[0;32mif\u001b[0m \u001b[0mlen\u001b[0m\u001b[0;34m(\u001b[0m\u001b[0mdf\u001b[0m\u001b[0;34m)\u001b[0m \u001b[0;34m!=\u001b[0m \u001b[0mlen\u001b[0m\u001b[0;34m(\u001b[0m\u001b[0mdfs\u001b[0m\u001b[0;34m[\u001b[0m\u001b[0;36m0\u001b[0m\u001b[0;34m]\u001b[0m\u001b[0;34m)\u001b[0m\u001b[0;34m:\u001b[0m\u001b[0;34m\u001b[0m\u001b[0m\n\u001b[0;32m---> 21\u001b[0;31m                 \u001b[0;32mraise\u001b[0m \u001b[0mValueError\u001b[0m\u001b[0;34m(\u001b[0m\u001b[0;34m\"DataFrames have different length:                                  {} != {}\"\u001b[0m\u001b[0;34m.\u001b[0m\u001b[0mformat\u001b[0m\u001b[0;34m(\u001b[0m\u001b[0mlen\u001b[0m\u001b[0;34m(\u001b[0m\u001b[0mdf\u001b[0m\u001b[0;34m)\u001b[0m\u001b[0;34m,\u001b[0m \u001b[0mlen\u001b[0m\u001b[0;34m(\u001b[0m\u001b[0mdfs\u001b[0m\u001b[0;34m[\u001b[0m\u001b[0;36m0\u001b[0m\u001b[0;34m]\u001b[0m\u001b[0;34m)\u001b[0m\u001b[0;34m)\u001b[0m\u001b[0;34m)\u001b[0m\u001b[0;34m\u001b[0m\u001b[0m\n\u001b[0m\u001b[1;32m     22\u001b[0m \u001b[0;34m\u001b[0m\u001b[0m\n\u001b[1;32m     23\u001b[0m         \u001b[0;32mif\u001b[0m \u001b[0mcolumns\u001b[0m\u001b[0;34m:\u001b[0m\u001b[0;34m\u001b[0m\u001b[0m\n",
      "\u001b[0;31mValueError\u001b[0m: DataFrames have different length:                                  16 != 151"
     ]
    }
   ],
   "source": [
    "files = [\n",
    "    \"./toy_atp/toy_atp_mk_v12-sbmlutils_dt0.1_tend15.csv\",\n",
    "    \"./toy_atp/toy_atp_mk_v12-ibiosim_dt0.1_tend15.csv\"\n",
    "]\n",
    "atp_dsc = DataSetsComparison(\n",
    "    files=files,\n",
    "    dfs = [\n",
    "        pd.read_csv(files[0], sep=\"\\t\"),\n",
    "        pd.read_csv(files[1])\n",
    "    ],\n",
    "    columns = [\n",
    "        [\"time\", \"[adp]\", \"[atp]\", \"[pyr]\", \"[glc]\"],\n",
    "        [\"time\", \"adp\", \"atp\", \"pyr\", \"glc\"],\n",
    "    ]\n",
    ")\n",
    "\n",
    "atp_dsc.report()"
   ]
  },
  {
   "cell_type": "markdown",
   "metadata": {
    "collapsed": true
   },
   "source": [
    "## diauxic"
   ]
  },
  {
   "cell_type": "code",
   "execution_count": 34,
   "metadata": {},
   "outputs": [
    {
     "name": "stdout",
     "output_type": "stream",
     "text": [
      "********************************************************************************\n",
      "['./diauxic_growth/diauxic_growth_lw_v4-sbmlutils_dt0.01_tend15.0.csv',\n",
      " './diauxic_growth/diauxic_growth_lw_v4-ibiosim_dt0.01_tend15.0.csv']\n",
      "[['time', '[Ac]', '[Glcxt]', '[O2]', '[X]'], ['time', 'Ac', 'Glcxt', 'O2', 'X']]\n",
      "\n",
      "# Elements\n",
      "(1501, 5)\n",
      "\n",
      "# Maximum column difference\n",
      "time       3.552714e-15\n",
      "[Ac]       2.245718e-09\n",
      "[Glcxt]    4.743860e-09\n",
      "[O2]       1.326935e-09\n",
      "[X]        3.114851e-10\n",
      "dtype: float64\n",
      "\n",
      "# Maximum element difference\n",
      "4.74386013805e-09\n",
      "\n",
      "# Datasets are equal (diff <= eps=0.001)\n",
      "True\n",
      "********************************************************************************\n"
     ]
    },
    {
     "data": {
      "image/png": "[encoded data removed]",
      "text/plain": [
       "<matplotlib.figure.Figure at 0x7f6fd62db048>"
      ]
     },
     "metadata": {},
     "output_type": "display_data"
    }
   ],
   "source": [
    "files = [\n",
    "    \"./diauxic_growth/diauxic_growth_lw_v4-sbmlutils_dt0.01_tend15.0.csv\",\n",
    "    \"./diauxic_growth/diauxic_growth_lw_v4-ibiosim_dt0.01_tend15.0.csv\",\n",
    "]\n",
    "diauxic_dsc = DataSetsComparison(\n",
    "    files=files,\n",
    "    dfs = [\n",
    "        pd.read_csv(files[0]),\n",
    "        pd.read_csv(files[1])\n",
    "    ],\n",
    "    columns = [\n",
    "        [\"time\", \"[Ac]\", \"[Glcxt]\", \"[O2]\", \"[X]\"],\n",
    "        [\"time\", \"Ac\", \"Glcxt\", \"O2\", \"X\"],\n",
    "    ]\n",
    ")\n",
    "\n",
    "diauxic_dsc.report()"
   ]
  },
  {
   "cell_type": "code",
   "execution_count": null,
   "metadata": {
    "collapsed": true
   },
   "outputs": [],
   "source": []
  }
 ],
 "metadata": {
  "kernelspec": {
   "display_name": "dfba",
   "language": "python",
   "name": "dfba"
  },
  "language_info": {
   "codemirror_mode": {
    "name": "ipython",
    "version": 3
   },
   "file_extension": ".py",
   "mimetype": "text/x-python",
   "name": "python",
   "nbconvert_exporter": "python",
   "pygments_lexer": "ipython3",
   "version": "3.5.2"
  }
 },
 "nbformat": 4,
 "nbformat_minor": 2
}
