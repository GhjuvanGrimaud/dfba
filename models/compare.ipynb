{
 "cells": [
  {
   "cell_type": "markdown",
   "metadata": {},
   "source": [
    "# Compare simulation results"
   ]
  },
  {
   "cell_type": "code",
   "execution_count": 52,
   "metadata": {
    "collapsed": true
   },
   "outputs": [],
   "source": [
    "\"\"\"\n",
    "Helper class for comparing simulation results.\n",
    "\"\"\"\n",
    "import pandas as pd\n",
    "from matplotlib import pyplot as plt\n",
    "from pprint import pprint\n",
    "import warnings\n",
    "\n",
    "class DataSetsComparison(object):\n",
    "    \"\"\" Class for handling simple comparison of datasets.\n",
    "    Currently only supports 2 data sets in CSV.\n",
    "    \"\"\"\n",
    "    eps = 1E-3  # tolerance for comparison \n",
    "    \n",
    "    def __init__(self, files, dfs, columns=None):\n",
    "        self.files = files\n",
    "        self.columns = columns\n",
    "        for df in dfs:\n",
    "            assert len(df) == len(dfs[0])\n",
    "        \n",
    "        if columns:\n",
    "            assert len(self.files) == len(self.columns)\n",
    "            for column in self.columns:\n",
    "                assert len(column) == len(self.columns[0])\n",
    "            \n",
    "        self.read_dfs(dfs)\n",
    "        self.diff = self.df_diff()\n",
    "        \n",
    "    def read_dfs(self, dfs):\n",
    "        \"\"\" Read the dataframes using the files and given column ids.\"\"\"\n",
    "        self.dfs = []\n",
    "        \n",
    "        for k, df in enumerate(dfs):\n",
    "            file = self.files[k]\n",
    "            if self.columns:\n",
    "                cols = self.columns[k]\n",
    "                df1 = df[cols]\n",
    "                df1.columns = self.columns[0]  # unify columns\n",
    "                self.dfs.append(df1)\n",
    "            else:\n",
    "                # no columns specified, necessary to figure out the mapping\n",
    "                print(\"-\"*40)\n",
    "                print(file)\n",
    "                print(\"-\"*40)\n",
    "                pprint(df.columns)\n",
    "                # print(df.head())\n",
    "\n",
    "            \n",
    "        return self.dfs\n",
    "\n",
    "    def df_diff(self):\n",
    "        \"\"\" Difference data set between the files.\"\"\"\n",
    "        return self.dfs[0]-self.dfs[1]\n",
    "    \n",
    "    def is_equal(self):\n",
    "        return abs(self.diff.abs().max().max()) <= DataSetsComparison.eps\n",
    "\n",
    "    def info(self):\n",
    "        pprint(self.files)\n",
    "        pprint(self.columns)\n",
    "        \n",
    "    def print_diff(self):\n",
    "        print(\"\\n# Elements\")\n",
    "        print(self.diff.shape)\n",
    "        \n",
    "        print(\"\\n# Maximum column difference\")\n",
    "        print(self.diff.abs().max())\n",
    "        \n",
    "        print(\"\\n# Maximum element difference\")\n",
    "        print(self.diff.abs().max().max())\n",
    "        \n",
    "        print(\"\\n# Datasets are equal (diff <= eps={})\".format(DataSetsComparison.eps))\n",
    "        print(self.is_equal())\n",
    "        if not (self.is_equal()):\n",
    "            warnings.warn(\"Datasets are not equal !\")\n",
    "        \n",
    "              \n",
    "    def plot_diff(self):\n",
    "        for cid in self.diff.columns:\n",
    "            plt.plot(self.diff[cid], label=cid)\n",
    "        plt.legend()\n",
    "        plt.show()\n",
    "        \n",
    "    def report(self):\n",
    "        print(\"*\" * 80)\n",
    "        self.info()\n",
    "        self.print_diff()\n",
    "        print(\"*\" * 80)\n",
    "        self.plot_diff()\n",
    "        self.diff"
   ]
  },
  {
   "cell_type": "markdown",
   "metadata": {},
   "source": [
    "## toy_wholecell"
   ]
  },
  {
   "cell_type": "code",
   "execution_count": 53,
   "metadata": {},
   "outputs": [
    {
     "name": "stdout",
     "output_type": "stream",
     "text": [
      "********************************************************************************\n",
      "['./toy_wholecell/toy_wholecell_mk_v14-sbmlutils.csv',\n",
      " './toy_wholecell/toy_wholecell_mk_v10-ibiosim.csv']\n",
      "[['time', '[A]', '[C]', '[D]'], ['Time', 'A (1)', 'C (1)', 'D (1)']]\n",
      "\n",
      "# Elements\n",
      "(51, 4)\n",
      "\n",
      "# Maximum column difference\n",
      "time    0.000000\n",
      "[A]     0.000112\n",
      "[C]     0.000047\n",
      "[D]     0.000107\n",
      "dtype: float64\n",
      "\n",
      "# Maximum element difference\n",
      "0.000111954984088\n",
      "\n",
      "# Datasets are equal (diff <= eps=0.001)\n",
      "True\n",
      "********************************************************************************\n"
     ]
    },
    {
     "data": {
      "image/png": "[encoded data removed]",
      "text/plain": [
       "<matplotlib.figure.Figure at 0x7f24b01bebe0>"
      ]
     },
     "metadata": {},
     "output_type": "display_data"
    }
   ],
   "source": [
    "files = [\n",
    "        \"./toy_wholecell/toy_wholecell_mk_v14-sbmlutils.csv\",\n",
    "        \"./toy_wholecell/toy_wholecell_mk_v10-ibiosim.csv\"\n",
    "]\n",
    "wholecell_dsc = DataSetsComparison(\n",
    "    files=files, \n",
    "    dfs=[pd.read_csv(file) for file in files],\n",
    "    columns = [\n",
    "        [\"time\", \"[A]\", \"[C]\", \"[D]\"],\n",
    "        [\"Time\", \"A (1)\", \"C (1)\", \"D (1)\"],\n",
    "    ]\n",
    ")\n",
    "\n",
    "wholecell_dsc.report()"
   ]
  },
  {
   "cell_type": "markdown",
   "metadata": {},
   "source": [
    "## toy_atp"
   ]
  },
  {
   "cell_type": "code",
   "execution_count": 58,
   "metadata": {},
   "outputs": [
    {
     "name": "stdout",
     "output_type": "stream",
     "text": [
      "********************************************************************************\n",
      "['./toy_atp/toy_atp_mk_v4-sbmlutils.csv', './toy_atp/toy_atp_mk_v4-ibiosim.csv']\n",
      "[['time', '[adp]', '[atp]', '[pyr]', '[glc]'],\n",
      " ['time', 'adp', 'atp', 'pyr', 'glc']]\n",
      "\n",
      "# Elements\n",
      "(141, 5)\n",
      "\n",
      "# Maximum column difference\n",
      "time     0.000000e+00\n",
      "[adp]    1.447138e-04\n",
      "[atp]    1.447138e-04\n",
      "[pyr]    1.243450e-14\n",
      "[glc]    3.552714e-15\n",
      "dtype: float64\n",
      "\n",
      "# Maximum element difference\n",
      "0.000144713811008\n",
      "\n",
      "# Datasets are equal (diff <= eps=0.001)\n",
      "True\n",
      "********************************************************************************\n"
     ]
    },
    {
     "data": {
      "image/png": "[encoded data removed]",
      "text/plain": [
       "<matplotlib.figure.Figure at 0x7f24b02caa20>"
      ]
     },
     "metadata": {},
     "output_type": "display_data"
    }
   ],
   "source": [
    "files = [\n",
    "    \"./toy_atp/toy_atp_mk_v4-sbmlutils.csv\",\n",
    "    \"./toy_atp/toy_atp_mk_v4-ibiosim.csv\"\n",
    "]\n",
    "atp_dsc = DataSetsComparison(\n",
    "    files=files,\n",
    "    dfs = [\n",
    "        pd.read_csv(files[0], sep=\"\\t\"),\n",
    "        pd.read_csv(files[1])\n",
    "    ],\n",
    "    columns = [\n",
    "        [\"time\", \"[adp]\", \"[atp]\", \"[pyr]\", \"[glc]\"],\n",
    "        [\"time\", \"adp\", \"atp\", \"pyr\", \"glc\"],\n",
    "    ]\n",
    ")\n",
    "\n",
    "atp_dsc.report()"
   ]
  },
  {
   "cell_type": "code",
   "execution_count": null,
   "metadata": {
    "collapsed": true
   },
   "outputs": [],
   "source": []
  }
 ],
 "metadata": {
  "kernelspec": {
   "display_name": "dfba",
   "language": "python",
   "name": "dfba"
  },
  "language_info": {
   "codemirror_mode": {
    "name": "ipython",
    "version": 3
   },
   "file_extension": ".py",
   "mimetype": "text/x-python",
   "name": "python",
   "nbconvert_exporter": "python",
   "pygments_lexer": "ipython3",
   "version": "3.5.2"
  }
 },
 "nbformat": 4,
 "nbformat_minor": 2
}
