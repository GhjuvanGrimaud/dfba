{
 "cells": [
  {
   "cell_type": "markdown",
   "metadata": {},
   "source": [
    "# toy_atp"
   ]
  },
  {
   "cell_type": "code",
   "execution_count": 5,
   "metadata": {},
   "outputs": [
    {
     "name": "stdout",
     "output_type": "stream",
     "text": [
      "sbmlutils: 0.1.5a5\n",
      "cobra: 0.6.1\n",
      "roadrunner: 1.4.18; Compiler: gcc 4.8.2, C++ version: 199711; JIT Compiler: LLVM-3.3; Date: May 17 2017, 17:41:04; LibSBML Version: 5.14.0\n",
      "/home/mkoenig/git/dfba/models/toy_atp\n"
     ]
    }
   ],
   "source": [
    "from __future__ import absolute_import, print_function, division\n",
    "import os\n",
    "from matplotlib import pyplot as plt\n",
    "import pandas as pd\n",
    "import numpy as np\n",
    "import cobra\n",
    "import roadrunner\n",
    "\n",
    "from IPython.display import display, HTML\n",
    "\n",
    "import sbmlutils\n",
    "from sbmlutils import dfba\n",
    "from sbmlutils.dfba.simulator import simulate_dfba\n",
    "from sbmlutils.dfba import utils\n",
    "\n",
    "print('sbmlutils:', sbmlutils.__version__)\n",
    "print('cobra:', cobra.__version__)\n",
    "print('roadrunner:', roadrunner.__version__)\n",
    "\n",
    "print(os.getcwd())"
   ]
  },
  {
   "cell_type": "markdown",
   "metadata": {},
   "source": [
    "## Simulation settings"
   ]
  },
  {
   "cell_type": "code",
   "execution_count": 6,
   "metadata": {
    "collapsed": true
   },
   "outputs": [],
   "source": [
    "tend = 50.0\n",
    "dt = 1.0"
   ]
  },
  {
   "cell_type": "markdown",
   "metadata": {},
   "source": [
    "## mk model"
   ]
  },
  {
   "cell_type": "code",
   "execution_count": 7,
   "metadata": {},
   "outputs": [
    {
     "name": "stdout",
     "output_type": "stream",
     "text": [
      "./mk/v1/toy_atp_top.xml\n"
     ]
    }
   ],
   "source": [
    "# model\n",
    "sbml_mk = './mk/v1/toy_atp_top.xml'\n",
    "print(sbml_mk)\n",
    "\n",
    "# TODO: encode model\n",
    "# run simulation \n",
    "# df_mk, dfba_model_mk, dfba_simulator_mk = simulate_dfba(sbml_mk, tend=tend, dt=dt)\n",
    "# df_mk"
   ]
  },
  {
   "cell_type": "markdown",
   "metadata": {
    "collapsed": true
   },
   "source": [
    "## lw model\n",
    "### Model issues\n",
    "* arrays package (please remove if not needed, standard libsbml distributions do not contain arrays)\n",
    "* the comp ids are wrong"
   ]
  },
  {
   "cell_type": "code",
   "execution_count": 10,
   "metadata": {},
   "outputs": [
    {
     "name": "stderr",
     "output_type": "stream",
     "text": [
      "ERROR:root:--------------------------------------------------------------------------------\n",
      "./lw/v2/Top.xml\n",
      "valid                    : <FALSE>\n",
      "validation error(s)      : 3\n",
      "validation warnings(s)   : 0\n",
      "check time (ms)          : 0.5061089999999995\n",
      "--------------------------------------------------------------------------------\n"
     ]
    },
    {
     "name": "stdout",
     "output_type": "stream",
     "text": [
      "./lw/v2/Top.xml\n",
      "<SBMLDocument>\n",
      "E0: SBML component consistency (core, L2, code)  \n",
      "------------------------------------------------------------\n",
      "[Error] The SBML document requires an SBML Level 3 package unavailable in this software\n",
      "Every SBML Level 3 package is identified uniquely by an XML namespace URI and defines the attribute named 'required'. A value of required=true indicates that interpreting the package is necessary for complete mathematical interpretation of the model. (L3V1 Section 4.1.2) This instance of libSBML version 5 cannot find the code necessary to interpret the package information.\n",
      " Package 'arrays' is a required package and the model cannot be properly interpreted.\n",
      "\n",
      "\n",
      "E1: SBML component consistency (core, L2, code)  \n",
      "------------------------------------------------------------\n",
      "[Error] The SBML document requires an SBML Level 3 package unavailable in this software\n",
      "Every SBML Level 3 package is identified uniquely by an XML namespace URI and defines the attribute named 'required'. A value of required=true indicates that interpreting the package is necessary for complete mathematical interpretation of the model. (L3V1 Section 4.1.2) This instance of libSBML version 5 cannot find the code necessary to interpret the package information.\n",
      " Package 'arrays' is a required package and the model cannot be properly interpreted.\n",
      "\n",
      "\n",
      "<SBMLDocument>\n",
      "E0: SBML component consistency (core, L2, code)  \n",
      "------------------------------------------------------------\n",
      "[Error] The SBML document requires an SBML Level 3 package unavailable in this software\n",
      "Every SBML Level 3 package is identified uniquely by an XML namespace URI and defines the attribute named 'required'. A value of required=true indicates that interpreting the package is necessary for complete mathematical interpretation of the model. (L3V1 Section 4.1.2) This instance of libSBML version 5 cannot find the code necessary to interpret the package information.\n",
      " Package 'arrays' is a required package and the model cannot be properly interpreted.\n",
      "\n",
      "\n",
      "E1: SBML component consistency (core, L2, code)  \n",
      "------------------------------------------------------------\n",
      "[Error] The SBML document requires an SBML Level 3 package unavailable in this software\n",
      "Every SBML Level 3 package is identified uniquely by an XML namespace URI and defines the attribute named 'required'. A value of required=true indicates that interpreting the package is necessary for complete mathematical interpretation of the model. (L3V1 Section 4.1.2) This instance of libSBML version 5 cannot find the code necessary to interpret the package information.\n",
      " Package 'arrays' is a required package and the model cannot be properly interpreted.\n",
      "\n",
      "\n",
      "E2: SBML component consistency (comp, L1, code)  \n",
      "------------------------------------------------------------\n",
      "[Warning] Line numbers unreliable.\n",
      "Due to the need to instantiate models, modelDefinitions, submodels etc. for the purposes of validation it is problematic to reliably report line numbers when performing validation on models using the Hierarchical Model Composition package.\n",
      "\n",
      "\n",
      "E3: SBML component consistency (comp, L33, code)  \n",
      "------------------------------------------------------------\n",
      "[Error] The 'comp:portRef' attribute must be the 'id' of a <port>\n",
      "The value of a 'comp:portRef' attribute on an <sBaseRef> object must be the identifier of a <port> object in the <model> referenced by that <sBaseRef>.\n",
      "Reference: L3V1 Comp V1 Section 3.7.1\n",
      " The 'portRef' of a <sBaseRef> is set to 'initialAssignment__max_ADP' which is not a <port> within the <model> referenced by port 'initialAssignment__max_ADP__C3'.\n",
      "\n",
      "\n"
     ]
    },
    {
     "data": {
      "text/plain": [
       "(3, 3, 0)"
      ]
     },
     "execution_count": 10,
     "metadata": {},
     "output_type": "execute_result"
    }
   ],
   "source": [
    "# absolute path to latest top model (update with new version)\n",
    "sbml_lw = './lw/v2/Top.xml'\n",
    "print(sbml_lw)\n",
    "\n",
    "from sbmlutils import validation\n",
    "validation.check_sbml(sbml_lw)"
   ]
  },
  {
   "cell_type": "code",
   "execution_count": 11,
   "metadata": {},
   "outputs": [
    {
     "name": "stderr",
     "output_type": "stream",
     "text": [
      "/home/mkoenig/envs/dfba/src/sbmlutils/sbmlutils/dfba/builder.py:101 \u001b[1;31mUserWarning\u001b[0m: SBOTerm for modelling framework not set\n",
      "/home/mkoenig/envs/dfba/src/sbmlutils/sbmlutils/dfba/builder.py:103 \u001b[1;31mUserWarning\u001b[0m: No framework set for: <Model bounds>\n",
      "cobra/io/sbml3.py:259 \u001b[1;31mUserWarning\u001b[0m: loading SBML model without fbc:strict=\"true\"\n"
     ]
    },
    {
     "ename": "KeyError",
     "evalue": "'C1__R6'",
     "output_type": "error",
     "traceback": [
      "\u001b[0;31m---------------------------------------------------------------------------\u001b[0m",
      "\u001b[0;31mKeyError\u001b[0m                                  Traceback (most recent call last)",
      "\u001b[0;32m<ipython-input-11-c7f5a411a5da>\u001b[0m in \u001b[0;36m<module>\u001b[0;34m()\u001b[0m\n\u001b[1;32m      1\u001b[0m \u001b[0;31m# run simulation\u001b[0m\u001b[0;34m\u001b[0m\u001b[0;34m\u001b[0m\u001b[0m\n\u001b[0;32m----> 2\u001b[0;31m \u001b[0mdf_lw\u001b[0m\u001b[0;34m,\u001b[0m \u001b[0mdfba_model_lw\u001b[0m\u001b[0;34m,\u001b[0m \u001b[0mdfba_simulator_lw\u001b[0m \u001b[0;34m=\u001b[0m \u001b[0msimulate_dfba\u001b[0m\u001b[0;34m(\u001b[0m\u001b[0msbml_lw\u001b[0m\u001b[0;34m,\u001b[0m \u001b[0mtend\u001b[0m\u001b[0;34m=\u001b[0m\u001b[0mtend\u001b[0m\u001b[0;34m,\u001b[0m \u001b[0mdt\u001b[0m\u001b[0;34m=\u001b[0m\u001b[0mdt\u001b[0m\u001b[0;34m)\u001b[0m\u001b[0;34m\u001b[0m\u001b[0m\n\u001b[0m\u001b[1;32m      3\u001b[0m \u001b[0mdf\u001b[0m\u001b[0;34m\u001b[0m\u001b[0m\n",
      "\u001b[0;32m~/envs/dfba/src/sbmlutils/sbmlutils/dfba/simulator.py\u001b[0m in \u001b[0;36msimulate_dfba\u001b[0;34m(sbml_path, tstart, tend, dt, pfba, abs_tol, rel_tol, lp_solver, **kwargs)\u001b[0m\n\u001b[1;32m     45\u001b[0m     dfba_simulator = DFBASimulator(dfba_model, pfba=pfba,\n\u001b[1;32m     46\u001b[0m                                    abs_tol=abs_tol, rel_tol=rel_tol, lp_solver=lp_solver)\n\u001b[0;32m---> 47\u001b[0;31m     \u001b[0mdfba_simulator\u001b[0m\u001b[0;34m.\u001b[0m\u001b[0msimulate\u001b[0m\u001b[0;34m(\u001b[0m\u001b[0mtstart\u001b[0m\u001b[0;34m=\u001b[0m\u001b[0mtstart\u001b[0m\u001b[0;34m,\u001b[0m \u001b[0mtend\u001b[0m\u001b[0;34m=\u001b[0m\u001b[0mtend\u001b[0m\u001b[0;34m,\u001b[0m \u001b[0mdt\u001b[0m\u001b[0;34m=\u001b[0m\u001b[0mdt\u001b[0m\u001b[0;34m,\u001b[0m \u001b[0;34m**\u001b[0m\u001b[0mkwargs\u001b[0m\u001b[0;34m)\u001b[0m\u001b[0;34m\u001b[0m\u001b[0m\n\u001b[0m\u001b[1;32m     48\u001b[0m     \u001b[0mdf\u001b[0m \u001b[0;34m=\u001b[0m \u001b[0mdfba_simulator\u001b[0m\u001b[0;34m.\u001b[0m\u001b[0msolution\u001b[0m\u001b[0;34m\u001b[0m\u001b[0m\n\u001b[1;32m     49\u001b[0m \u001b[0;34m\u001b[0m\u001b[0m\n",
      "\u001b[0;32m~/envs/dfba/src/sbmlutils/sbmlutils/dfba/simulator.py\u001b[0m in \u001b[0;36msimulate\u001b[0;34m(self, tstart, tend, dt, absTol, relTol, reset)\u001b[0m\n\u001b[1;32m    203\u001b[0m                 \u001b[0mrow\u001b[0m \u001b[0;34m=\u001b[0m \u001b[0mode_res\u001b[0m\u001b[0;34m[\u001b[0m\u001b[0;36m0\u001b[0m\u001b[0;34m,\u001b[0m \u001b[0;34m:\u001b[0m\u001b[0;34m]\u001b[0m\u001b[0;34m\u001b[0m\u001b[0m\n\u001b[1;32m    204\u001b[0m                 \u001b[0mrow_next\u001b[0m \u001b[0;34m=\u001b[0m \u001b[0mode_res\u001b[0m\u001b[0;34m[\u001b[0m\u001b[0;36m1\u001b[0m\u001b[0;34m,\u001b[0m \u001b[0;34m:\u001b[0m\u001b[0;34m]\u001b[0m\u001b[0;34m\u001b[0m\u001b[0m\n\u001b[0;32m--> 205\u001b[0;31m                 \u001b[0mself\u001b[0m\u001b[0;34m.\u001b[0m\u001b[0m_store_fba_fluxes\u001b[0m\u001b[0;34m(\u001b[0m\u001b[0mrow\u001b[0m\u001b[0;34m)\u001b[0m\u001b[0;34m\u001b[0m\u001b[0m\n\u001b[0m\u001b[1;32m    206\u001b[0m \u001b[0;34m\u001b[0m\u001b[0m\n\u001b[1;32m    207\u001b[0m                 \u001b[0mall_results\u001b[0m\u001b[0;34m.\u001b[0m\u001b[0mappend\u001b[0m\u001b[0;34m(\u001b[0m\u001b[0mrow\u001b[0m\u001b[0;34m)\u001b[0m\u001b[0;34m\u001b[0m\u001b[0m\n",
      "\u001b[0;32m~/envs/dfba/src/sbmlutils/sbmlutils/dfba/simulator.py\u001b[0m in \u001b[0;36m_store_fba_fluxes\u001b[0;34m(self, row)\u001b[0m\n\u001b[1;32m    266\u001b[0m         \"\"\"\n\u001b[1;32m    267\u001b[0m         \u001b[0;32mfor\u001b[0m \u001b[0mfba_rid\u001b[0m\u001b[0;34m,\u001b[0m \u001b[0mflat_rid\u001b[0m \u001b[0;32min\u001b[0m \u001b[0miteritems\u001b[0m\u001b[0;34m(\u001b[0m\u001b[0mself\u001b[0m\u001b[0;34m.\u001b[0m\u001b[0mfba_model\u001b[0m\u001b[0;34m.\u001b[0m\u001b[0mtop2flat_reactions\u001b[0m\u001b[0;34m)\u001b[0m\u001b[0;34m:\u001b[0m\u001b[0;34m\u001b[0m\u001b[0m\n\u001b[0;32m--> 268\u001b[0;31m             \u001b[0mindex\u001b[0m \u001b[0;34m=\u001b[0m \u001b[0mself\u001b[0m\u001b[0;34m.\u001b[0m\u001b[0mcolumns\u001b[0m\u001b[0;34m[\u001b[0m\u001b[0mflat_rid\u001b[0m\u001b[0;34m]\u001b[0m\u001b[0;34m\u001b[0m\u001b[0m\n\u001b[0m\u001b[1;32m    269\u001b[0m             \u001b[0mrow\u001b[0m\u001b[0;34m[\u001b[0m\u001b[0mindex\u001b[0m\u001b[0;34m]\u001b[0m \u001b[0;34m=\u001b[0m \u001b[0mflux\u001b[0m \u001b[0;34m=\u001b[0m \u001b[0mself\u001b[0m\u001b[0;34m.\u001b[0m\u001b[0mfluxes\u001b[0m\u001b[0;34m[\u001b[0m\u001b[0mfba_rid\u001b[0m\u001b[0;34m]\u001b[0m\u001b[0;34m\u001b[0m\u001b[0m\n\u001b[1;32m    270\u001b[0m             \u001b[0mlogging\u001b[0m\u001b[0;34m.\u001b[0m\u001b[0mdebug\u001b[0m\u001b[0;34m(\u001b[0m\u001b[0;34m\"\\t{} = {}\"\u001b[0m\u001b[0;34m.\u001b[0m\u001b[0mformat\u001b[0m\u001b[0;34m(\u001b[0m\u001b[0mfba_rid\u001b[0m\u001b[0;34m,\u001b[0m \u001b[0mflux\u001b[0m\u001b[0;34m)\u001b[0m\u001b[0;34m)\u001b[0m\u001b[0;34m\u001b[0m\u001b[0m\n",
      "\u001b[0;31mKeyError\u001b[0m: 'C1__R6'"
     ]
    }
   ],
   "source": [
    "# run simulation \n",
    "df_lw, dfba_model_lw, dfba_simulator_lw = simulate_dfba(sbml_lw, tend=tend, dt=dt)\n",
    "df"
   ]
  },
  {
   "cell_type": "code",
   "execution_count": null,
   "metadata": {
    "collapsed": true
   },
   "outputs": [],
   "source": []
  }
 ],
 "metadata": {
  "kernelspec": {
   "display_name": "dfba",
   "language": "python",
   "name": "dfba"
  },
  "language_info": {
   "codemirror_mode": {
    "name": "ipython",
    "version": 3
   },
   "file_extension": ".py",
   "mimetype": "text/x-python",
   "name": "python",
   "nbconvert_exporter": "python",
   "pygments_lexer": "ipython3",
   "version": "3.5.2"
  }
 },
 "nbformat": 4,
 "nbformat_minor": 2
}
