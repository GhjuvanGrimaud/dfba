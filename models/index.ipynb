{
 "cells": [
  {
   "cell_type": "markdown",
   "metadata": {},
   "source": [
    "# Run DFBA models with sbmlutils\n",
    "* [toy_wholecell](./toy_wholecell/toy_wholecell.ipynb)\n",
    "* [toy_atp](./toy_atp/toy_atp.ipynb)\n",
    "* [diauxic_growth](./diauxic_growth/diauxic_growth.ipynb)\n",
    "* [ecoli](./ecoli/ecoli.ipynb)\n",
    "* [rbc](./rbc/rbc.ipynb)"
   ]
  },
  {
   "cell_type": "code",
   "execution_count": null,
   "metadata": {
    "collapsed": true
   },
   "outputs": [],
   "source": []
  }
 ],
 "metadata": {
  "kernelspec": {
   "display_name": "dfba",
   "language": "python",
   "name": "dfba"
  },
  "language_info": {
   "codemirror_mode": {
    "name": "ipython",
    "version": 3
   },
   "file_extension": ".py",
   "mimetype": "text/x-python",
   "name": "python",
   "nbconvert_exporter": "python",
   "pygments_lexer": "ipython3",
   "version": "3.5.2"
  }
 },
 "nbformat": 4,
 "nbformat_minor": 2
}
